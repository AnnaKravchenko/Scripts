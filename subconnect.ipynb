{
 "cells": [
  {
   "cell_type": "code",
   "execution_count": 2,
   "metadata": {},
   "outputs": [],
   "source": [
    "import numpy as np\n",
    "%load_ext Cython"
   ]
  },
  {
   "cell_type": "code",
   "execution_count": 3,
   "metadata": {},
   "outputs": [
    {
     "name": "stdout",
     "output_type": "stream",
     "text": [
      "9\n"
     ]
    }
   ],
   "source": [
    "npz = np.load(\"UUU-2frag-4A.npz\")\n",
    "max_rmsd = 3 #overlapping cutoff (<3.0A recommended)\n",
    "max_msd = max_rmsd**2\n",
    "print(max_msd)\n",
    "preatoms = np.load(\"UUU-e3-preatoms.npy\")\n",
    "postatoms = np.load(\"UUU-e3-postatoms.npy\")\n",
    "outnpz = \"test\"\n",
    "connections = npz['interactions-0'].astype(np.int32)\n",
    "nat = preatoms.shape[1] // 3\n",
    "preatoms = preatoms.reshape(preatoms.shape[0], nat, 3)\n",
    "postatoms = postatoms.reshape(postatoms.shape[0], nat, 3)"
   ]
  },
  {
   "cell_type": "code",
   "execution_count": 8,
   "metadata": {
    "scrolled": true
   },
   "outputs": [],
   "source": [
    "%%cython_pyximport subconnect\n",
    "#%%cython --a\n",
    "cimport numpy as np\n",
    "cimport cython\n",
    "import numpy as np\n",
    "ctypedef int[2] two_int\n",
    "@cython.boundscheck(False)\n",
    "@cython.wraparound(False)  # turn off negative index wrapping for entire function\n",
    "@cython.cdivision(True)\n",
    "def subconnect(double[:,:,:] preatoms,\n",
    "               double[:,:,:] postatoms,\n",
    "               int[:,:] connections, float max_msd):\n",
    "    cdef float r\n",
    "    cdef int i, x, at, c0, c1, c, nat\n",
    "    cdef double[:,:] coor1, coor2\n",
    "    cdef int nconn = len(connections)\n",
    "    cdef np.ndarray[char, ndim=1, mode=\"c\"] new_connections = np.zeros(nconn, dtype=np.uint8)\n",
    "    c = 0\n",
    "    nat = preatoms.shape[1]\n",
    "    for i in range(nconn):\n",
    "        c0, c1 = connections[i,0],connections[i,1] \n",
    "        if c0 != c:\n",
    "            c = c0\n",
    "            coor1 = preatoms[c0]\n",
    "        coor2 = postatoms[c1]\n",
    "        r = 0\n",
    "        for at in range(nat):\n",
    "            for x in range(3):\n",
    "                r += (coor2[at,x]-coor1[at,x])**2\n",
    "        r = r/nat\n",
    "        if r <= max_msd:\n",
    "            new_connections[i] = 1\n",
    "    return np.array(connections)[new_connections.astype(np.bool)]"
   ]
  },
  {
   "cell_type": "code",
   "execution_count": 9,
   "metadata": {},
   "outputs": [
    {
     "name": "stdout",
     "output_type": "stream",
     "text": [
      "859 µs ± 19.5 µs per loop (mean ± std. dev. of 7 runs, 1000 loops each)\n"
     ]
    }
   ],
   "source": [
    "%%timeit\n",
    "new = subconnect(preatoms, postatoms, connections, max_msd)"
   ]
  },
  {
   "cell_type": "code",
   "execution_count": 17,
   "metadata": {},
   "outputs": [
    {
     "data": {
      "text/plain": [
       "array([[ 19,  61],\n",
       "       [ 19,  67],\n",
       "       [ 37, 507],\n",
       "       [ 42, 353],\n",
       "       [ 72, 507],\n",
       "       [ 77,   0],\n",
       "       [ 84,  61],\n",
       "       [ 84,  67],\n",
       "       [ 95,   0],\n",
       "       [ 95, 353],\n",
       "       [101,  41],\n",
       "       [101,  52],\n",
       "       [101, 119],\n",
       "       [101, 195],\n",
       "       [103, 507],\n",
       "       [110,   0],\n",
       "       [110, 353],\n",
       "       [118, 507],\n",
       "       [121,  41],\n",
       "       [121,  52],\n",
       "       [132,  41],\n",
       "       [132, 119],\n",
       "       [132, 195],\n",
       "       [137, 119],\n",
       "       [137, 195],\n",
       "       [143,  41],\n",
       "       [143,  52],\n",
       "       [143, 119],\n",
       "       [143, 195],\n",
       "       [143, 326],\n",
       "       [144, 507],\n",
       "       [150,  41],\n",
       "       [150,  52],\n",
       "       [150,  83],\n",
       "       [154, 366],\n",
       "       [164,  41],\n",
       "       [164,  52],\n",
       "       [164, 119],\n",
       "       [164, 195],\n",
       "       [164, 326],\n",
       "       [179, 507],\n",
       "       [183,  41],\n",
       "       [183,  52],\n",
       "       [183, 166],\n",
       "       [189,  41],\n",
       "       [189,  52],\n",
       "       [202,  41],\n",
       "       [202,  52],\n",
       "       [202,  83],\n",
       "       [209, 507],\n",
       "       [253,   0],\n",
       "       [253, 353],\n",
       "       [278, 507],\n",
       "       [299,  36],\n",
       "       [331, 426],\n",
       "       [342,  50],\n",
       "       [343, 195],\n",
       "       [349, 507],\n",
       "       [376, 507],\n",
       "       [407, 507],\n",
       "       [420,  41],\n",
       "       [420,  52],\n",
       "       [425, 507],\n",
       "       [437, 507],\n",
       "       [446, 507],\n",
       "       [447,  83],\n",
       "       [455,  36],\n",
       "       [455,  41],\n",
       "       [455,  52],\n",
       "       [455,  83],\n",
       "       [455, 108],\n",
       "       [455, 119],\n",
       "       [455, 127],\n",
       "       [455, 166],\n",
       "       [455, 186],\n",
       "       [455, 195],\n",
       "       [455, 326],\n",
       "       [455, 490],\n",
       "       [455, 506],\n",
       "       [467, 255],\n",
       "       [468, 507],\n",
       "       [487, 507],\n",
       "       [488,  41],\n",
       "       [488,  83],\n",
       "       [488, 119],\n",
       "       [488, 166],\n",
       "       [488, 186],\n",
       "       [488, 195],\n",
       "       [494,  36],\n",
       "       [494,  41],\n",
       "       [494,  52],\n",
       "       [494,  83],\n",
       "       [494, 166],\n",
       "       [502,  36],\n",
       "       [502,  41],\n",
       "       [502,  52],\n",
       "       [502,  83],\n",
       "       [502, 119],\n",
       "       [502, 166],\n",
       "       [502, 195],\n",
       "       [502, 490],\n",
       "       [514,  67],\n",
       "       [520,  67],\n",
       "       [526, 342],\n",
       "       [526, 507],\n",
       "       [571,  67],\n",
       "       [586, 507],\n",
       "       [607, 507],\n",
       "       [620, 195],\n",
       "       [629, 507],\n",
       "       [637,  41],\n",
       "       [637,  52],\n",
       "       [637,  83],\n",
       "       [637, 119],\n",
       "       [637, 166],\n",
       "       [637, 195],\n",
       "       [637, 490],\n",
       "       [674,  41],\n",
       "       [674,  52],\n",
       "       [674,  83],\n",
       "       [674, 166],\n",
       "       [674, 186],\n",
       "       [678, 507],\n",
       "       [700,   0],\n",
       "       [717,  38],\n",
       "       [724, 507],\n",
       "       [733, 195],\n",
       "       [749, 507],\n",
       "       [783,  41],\n",
       "       [783,  52],\n",
       "       [783,  83],\n",
       "       [783, 490],\n",
       "       [842,  36],\n",
       "       [842,  41],\n",
       "       [842,  52],\n",
       "       [842,  83],\n",
       "       [842, 119],\n",
       "       [842, 166],\n",
       "       [842, 195],\n",
       "       [842, 490],\n",
       "       [847, 342],\n",
       "       [847, 507],\n",
       "       [854,  36],\n",
       "       [854,  41],\n",
       "       [854,  52],\n",
       "       [854,  83],\n",
       "       [854, 119],\n",
       "       [854, 166],\n",
       "       [854, 195],\n",
       "       [864,  83],\n",
       "       [873,  80],\n",
       "       [886, 282],\n",
       "       [924, 282],\n",
       "       [933, 282],\n",
       "       [934, 195],\n",
       "       [934, 434],\n",
       "       [949, 507],\n",
       "       [952, 426],\n",
       "       [959,  41],\n",
       "       [959,  83],\n",
       "       [959, 166],\n",
       "       [959, 195],\n",
       "       [982, 507],\n",
       "       [983, 342],\n",
       "       [985, 507],\n",
       "       [994, 507],\n",
       "       [996,  36],\n",
       "       [996,  41],\n",
       "       [996,  52],\n",
       "       [996,  83],\n",
       "       [996, 119],\n",
       "       [996, 166],\n",
       "       [996, 195],\n",
       "       [996, 490]], dtype=int32)"
      ]
     },
     "execution_count": 17,
     "metadata": {},
     "output_type": "execute_result"
    }
   ],
   "source": [
    "new"
   ]
  },
  {
   "cell_type": "code",
   "execution_count": 18,
   "metadata": {},
   "outputs": [
    {
     "data": {
      "text/plain": [
       "7152"
      ]
     },
     "execution_count": 18,
     "metadata": {},
     "output_type": "execute_result"
    }
   ],
   "source": [
    "len(connections)"
   ]
  },
  {
   "cell_type": "code",
   "execution_count": 19,
   "metadata": {},
   "outputs": [
    {
     "data": {
      "text/plain": [
       "174"
      ]
     },
     "execution_count": 19,
     "metadata": {},
     "output_type": "execute_result"
    }
   ],
   "source": [
    "len(new)"
   ]
  },
  {
   "cell_type": "code",
   "execution_count": 6,
   "metadata": {},
   "outputs": [
    {
     "data": {
      "text/plain": [
       "dtype('float64')"
      ]
     },
     "execution_count": 6,
     "metadata": {},
     "output_type": "execute_result"
    }
   ],
   "source": [
    "postatoms.dtype"
   ]
  },
  {
   "cell_type": "code",
   "execution_count": 8,
   "metadata": {},
   "outputs": [
    {
     "data": {
      "text/plain": [
       "dtype('int64')"
      ]
     },
     "execution_count": 8,
     "metadata": {},
     "output_type": "execute_result"
    }
   ],
   "source": [
    "connections.dtype"
   ]
  },
  {
   "cell_type": "code",
   "execution_count": null,
   "metadata": {},
   "outputs": [],
   "source": []
  }
 ],
 "metadata": {
  "kernelspec": {
   "display_name": "Python 3",
   "language": "python",
   "name": "python3"
  },
  "language_info": {
   "codemirror_mode": {
    "name": "ipython",
    "version": 3
   },
   "file_extension": ".py",
   "mimetype": "text/x-python",
   "name": "python",
   "nbconvert_exporter": "python",
   "pygments_lexer": "ipython3",
   "version": "3.5.2"
  }
 },
 "nbformat": 4,
 "nbformat_minor": 2
}
