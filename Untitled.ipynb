{
 "cells": [
  {
   "cell_type": "code",
   "execution_count": 12,
   "metadata": {},
   "outputs": [
    {
     "data": {
      "text/plain": [
       "array([[ 1,  2],\n",
       "       [ 3,  2],\n",
       "       [ 3,  1],\n",
       "       [ 4,  5],\n",
       "       [ 5,  6],\n",
       "       [ 5,  1],\n",
       "       [ 8,  1],\n",
       "       [ 8,  2],\n",
       "       [ 9,  3],\n",
       "       [ 9,  2],\n",
       "       [10,  2],\n",
       "       [10,  4]])"
      ]
     },
     "execution_count": 12,
     "metadata": {},
     "output_type": "execute_result"
    }
   ],
   "source": [
    "import numpy as np\n",
    "data = [\n",
    "    [1, 2],\n",
    "    [3, 2],\n",
    "    [8, 1],\n",
    "    [9, 3],\n",
    "    [3, 1],    \n",
    "    [4, 5],\n",
    "    [5, 6],\n",
    "    [5, 1],\n",
    "    [8, 2],\n",
    "    [9, 2],\n",
    "    [10, 2],\n",
    "    [10, 4],\n",
    "]\n",
    "data = np.array(data)\n",
    "inds = np.argsort(data[:,0])\n",
    "data = data[inds]"
   ]
  },
  {
   "cell_type": "code",
   "execution_count": 28,
   "metadata": {},
   "outputs": [
    {
     "name": "stdout",
     "output_type": "stream",
     "text": [
      "[ 0  1  3  4  6  8 10]\n",
      "[ 1  3  4  6  8 10 12]\n"
     ]
    }
   ],
   "source": [
    "points = np.where(np.diff(data[:, 0]) != 0)[0]+1\n",
    "startpoints = np.array([0] + points.tolist())\n",
    "endpoints = np.array(points.tolist() + [len(data)])\n",
    "print(startpoints)\n",
    "print(endpoints)"
   ]
  },
  {
   "cell_type": "code",
   "execution_count": 32,
   "metadata": {},
   "outputs": [
    {
     "name": "stdout",
     "output_type": "stream",
     "text": [
      "[ 1  3  4  5  8  9 10]\n"
     ]
    }
   ],
   "source": [
    "poses = data[startpoints,0]\n",
    "print(poses)"
   ]
  },
  {
   "cell_type": "code",
   "execution_count": 47,
   "metadata": {},
   "outputs": [
    {
     "data": {
      "text/plain": [
       "[{2}, {1, 2}, {5}, {1, 6}, {1, 2}, {2, 3}, {2, 4}]"
      ]
     },
     "execution_count": 47,
     "metadata": {},
     "output_type": "execute_result"
    }
   ],
   "source": [
    "sets = [set(data[a:b,1]) for a,b in zip(startpoints, endpoints)]\n",
    "sets"
   ]
  },
  {
   "cell_type": "code",
   "execution_count": 51,
   "metadata": {},
   "outputs": [
    {
     "data": {
      "text/plain": [
       "[{2}, set(), {1, 2}, {5}, {1, 6}, set(), set(), {1, 2}, {2, 3}, {2, 4}]"
      ]
     },
     "execution_count": 51,
     "metadata": {},
     "output_type": "execute_result"
    }
   ],
   "source": [
    "all_sets = [set()] * np.max(data) #don't add to these sets!\n",
    "for p,s in zip(poses, sets):\n",
    "    all_sets[p-1] = s\n",
    "all_sets    "
   ]
  },
  {
   "cell_type": "code",
   "execution_count": 52,
   "metadata": {},
   "outputs": [
    {
     "data": {
      "text/plain": [
       "10"
      ]
     },
     "execution_count": 52,
     "metadata": {},
     "output_type": "execute_result"
    }
   ],
   "source": [
    "len(all_sets)"
   ]
  },
  {
   "cell_type": "code",
   "execution_count": null,
   "metadata": {
    "collapsed": true
   },
   "outputs": [],
   "source": []
  }
 ],
 "metadata": {
  "kernelspec": {
   "display_name": "Python 3",
   "language": "python",
   "name": "python3"
  },
  "language_info": {
   "codemirror_mode": {
    "name": "ipython",
    "version": 3
   },
   "file_extension": ".py",
   "mimetype": "text/x-python",
   "name": "python",
   "nbconvert_exporter": "python",
   "pygments_lexer": "ipython3",
   "version": "3.5.2"
  }
 },
 "nbformat": 4,
 "nbformat_minor": 2
}
